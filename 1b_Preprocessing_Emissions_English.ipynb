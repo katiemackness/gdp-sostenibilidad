{
 "cells": [
  {
   "cell_type": "markdown",
   "id": "a23aeaee",
   "metadata": {},
   "source": [
    "# **Economic Development vs. Sustainability**\n",
    "# Data Preprocessing - CO_2 Emissions\n",
    "Katlyn Goeujon-Mackness <br>\n",
    "05/05/2025\n",
    "\n",
    "## Introduction\n",
    "Economic growth is often pursued at the cost of environmental sustainability. This study aims to analyze the balance between economic development and sustainable practices across different regions, industries, and policies.\n",
    "\n",
    "In this phase of the data analysis, we will locate, collect and process necessary raw data, applying any transformations necessary. Sections will be organized by key indicator. Finally, we will export processed data in CSV format for analysis.\n",
    "\n",
    "### Key Challenge\n",
    "Achieving sustainable economic growth requires balancing financial prosperity with environmental and social responsibility. Identifying actionable patterns in historical data can inform policymakers, businesses, and environmental advocates.\n",
    "\n",
    "### Data of Interest\n",
    "- GDP growth rate compared to carbon emissions per capita.\n",
    "- Percentage of renewable energy adoption.\n",
    "- Employment trends in green industries.\n",
    "- Improvement in environmental quality indicators (air quality, water safety).\n",
    "- Sustainability index scores vs. economic performance.\n",
    "\n",
    "### Locating Relevant Data\n",
    "- **World Bank**: Economic and environmental indicators.\n",
    "    * [GDP per capita growth (annual %)](https://data.worldbank.org/indicator/NY.GDP.PCAP.KD.ZG)\n",
    "- **United Nations SDGs Database**: Sustainable development statistics.\n",
    "- **OECD**: Policy effectiveness on sustainability.\n",
    "- **NASA Earth Observations**: Environmental impact metrics.\n",
    "- **National Employment Data**: Job growth in sustainable sectors.\n"
   ]
  },
  {
   "cell_type": "markdown",
   "id": "fe29d508",
   "metadata": {},
   "source": []
  }
 ],
 "metadata": {
  "language_info": {
   "name": "python"
  }
 },
 "nbformat": 4,
 "nbformat_minor": 5
}
