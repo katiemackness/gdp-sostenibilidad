{
 "cells": [
  {
   "cell_type": "markdown",
   "id": "13e2529d",
   "metadata": {},
   "source": [
    "# **Economic Development vs. Sustainability**\n",
    "# Data Cleaning - CO_2 Emissions\n",
    "Katlyn Goeujon-Mackness <br>\n",
    "Last Updated: 18/06/2025\n",
    "\n",
    "## Introduction\n",
    "\n",
    "Economic growth is often pursued at the cost of environmental sustainability. This study aims to analyze the balance between economic development and sustainable practices across different regions, industries, and policies.\n",
    "\n",
    "In this **data cleaning phase**, we will refine and structure the dataset by handling missing values, removing redundant entries, and ensuring consistency in country classifications and ISO codes. This process will improve data quality, enabling accurate analysis. Once cleaned, we will export the processed dataset in CSV format for further exploration.\n",
    "\n",
    "### Key Challenge\n",
    "Achieving sustainable economic growth requires balancing financial prosperity with environmental and social responsibility. Identifying actionable patterns in historical data can inform policymakers, businesses, and environmental advocates.\n",
    "\n",
    "### Data of Interest\n",
    "- GDP growth rate compared to carbon emissions per capita.\n",
    "- Percentage of renewable energy adoption.\n",
    "- Employment trends in green industries.\n",
    "- Improvement in environmental quality indicators (air quality, water safety).\n",
    "- Sustainability index scores vs. economic performance.\n",
    "\n",
    "### Locating Relevant Data\n",
    "- **World Bank**: Economic indicators.\n",
    "    * [GDP per capita growth (annual %)](https://data.worldbank.org/indicator/NY.GDP.PCAP.KD.ZG)\n",
    "    * [GDP per capita (constant 2015 US$)](https://data.worldbank.org/indicator/NY.GDP.PCAP.KD)\n",
    "- **Our World in Data**: Environmental indicators and population data\n",
    "    * [CO2 and Greenhouse Gas Emissions](https://github.com/owid/co2-data)\n",
    "    * [Historical and Projected Population](https://ourworldindata.org/population-sources) \n",
    "- **United Nations SDGs Database**: Sustainable development statistics.\n",
    "- **OECD**: Policy effectiveness on sustainability.\n",
    "- **NASA Earth Observations**: Environmental impact metrics.\n",
    "- **National Employment Data**: Job growth in sustainable sectors."
   ]
  },
  {
   "cell_type": "code",
   "execution_count": 903,
   "id": "37944c7c",
   "metadata": {},
   "outputs": [],
   "source": [
    "import pandas as pd\n",
    "import numpy as np\n",
    "import matplotlib.pyplot as plt\n",
    "import seaborn as sns\n",
    "\n",
    "from scipy.stats import zscore\n",
    "\n",
    "# Prevent truncating columns and rows\n",
    "pd.set_option(\"display.max_rows\", None) \n",
    "pd.set_option(\"display.max_columns\", None) \n",
    "\n",
    "# Ignore warnings\n",
    "import warnings\n",
    "warnings.filterwarnings(\"ignore\")"
   ]
  },
  {
   "cell_type": "code",
   "execution_count": 904,
   "id": "0d9b6bbb",
   "metadata": {},
   "outputs": [],
   "source": [
    "# Datasets by country\n",
    "co2_by_country = pd.read_csv(\"../data/in_process/1b_co2_by_country_structured.csv\")\n",
    "gdp_by_country = pd.read_csv(\"../data/in_process/1a_gdp_by_country_structured.csv\")\n",
    "\n",
    "# Datasets by groups\n",
    "co2_by_groups = pd.read_csv(\"../data/in_process/1b_co2_by_groups_structured.csv\")\n",
    "gdp_by_groups = pd.read_csv(\"../data/in_process/1a_gdp_by_groups_structured.csv\")\n"
   ]
  },
  {
   "cell_type": "code",
   "execution_count": 905,
   "id": "d12e05ae",
   "metadata": {},
   "outputs": [
    {
     "data": {
      "text/html": [
       "<div>\n",
       "<style scoped>\n",
       "    .dataframe tbody tr th:only-of-type {\n",
       "        vertical-align: middle;\n",
       "    }\n",
       "\n",
       "    .dataframe tbody tr th {\n",
       "        vertical-align: top;\n",
       "    }\n",
       "\n",
       "    .dataframe thead th {\n",
       "        text-align: right;\n",
       "    }\n",
       "</style>\n",
       "<table border=\"1\" class=\"dataframe\">\n",
       "  <thead>\n",
       "    <tr style=\"text-align: right;\">\n",
       "      <th></th>\n",
       "      <th>Unnamed: 0</th>\n",
       "      <th>country</th>\n",
       "      <th>Country Code</th>\n",
       "      <th>year</th>\n",
       "      <th>population</th>\n",
       "      <th>gdp</th>\n",
       "      <th>co2</th>\n",
       "      <th>co2_per_capita</th>\n",
       "      <th>co2_per_gdp</th>\n",
       "      <th>co2_per_unit_energy</th>\n",
       "      <th>energy_per_gdp</th>\n",
       "    </tr>\n",
       "  </thead>\n",
       "  <tbody>\n",
       "    <tr>\n",
       "      <th>0</th>\n",
       "      <td>0</td>\n",
       "      <td>Afghanistan</td>\n",
       "      <td>AFG</td>\n",
       "      <td>1960</td>\n",
       "      <td>9035048.0</td>\n",
       "      <td>1.303325e+10</td>\n",
       "      <td>0.414</td>\n",
       "      <td>0.046</td>\n",
       "      <td>0.032</td>\n",
       "      <td>NaN</td>\n",
       "      <td>NaN</td>\n",
       "    </tr>\n",
       "    <tr>\n",
       "      <th>1</th>\n",
       "      <td>1</td>\n",
       "      <td>Afghanistan</td>\n",
       "      <td>AFG</td>\n",
       "      <td>1961</td>\n",
       "      <td>9214082.0</td>\n",
       "      <td>1.314629e+10</td>\n",
       "      <td>0.491</td>\n",
       "      <td>0.053</td>\n",
       "      <td>0.037</td>\n",
       "      <td>NaN</td>\n",
       "      <td>NaN</td>\n",
       "    </tr>\n",
       "    <tr>\n",
       "      <th>2</th>\n",
       "      <td>2</td>\n",
       "      <td>Afghanistan</td>\n",
       "      <td>AFG</td>\n",
       "      <td>1962</td>\n",
       "      <td>9404411.0</td>\n",
       "      <td>1.336763e+10</td>\n",
       "      <td>0.689</td>\n",
       "      <td>0.073</td>\n",
       "      <td>0.052</td>\n",
       "      <td>NaN</td>\n",
       "      <td>NaN</td>\n",
       "    </tr>\n",
       "  </tbody>\n",
       "</table>\n",
       "</div>"
      ],
      "text/plain": [
       "   Unnamed: 0      country Country Code  year  population           gdp  \\\n",
       "0           0  Afghanistan          AFG  1960   9035048.0  1.303325e+10   \n",
       "1           1  Afghanistan          AFG  1961   9214082.0  1.314629e+10   \n",
       "2           2  Afghanistan          AFG  1962   9404411.0  1.336763e+10   \n",
       "\n",
       "     co2  co2_per_capita  co2_per_gdp  co2_per_unit_energy  energy_per_gdp  \n",
       "0  0.414           0.046        0.032                  NaN             NaN  \n",
       "1  0.491           0.053        0.037                  NaN             NaN  \n",
       "2  0.689           0.073        0.052                  NaN             NaN  "
      ]
     },
     "execution_count": 905,
     "metadata": {},
     "output_type": "execute_result"
    }
   ],
   "source": [
    "co2_by_country.head(3)"
   ]
  },
  {
   "cell_type": "code",
   "execution_count": 906,
   "id": "847a4b0a",
   "metadata": {},
   "outputs": [
    {
     "data": {
      "text/html": [
       "<div>\n",
       "<style scoped>\n",
       "    .dataframe tbody tr th:only-of-type {\n",
       "        vertical-align: middle;\n",
       "    }\n",
       "\n",
       "    .dataframe tbody tr th {\n",
       "        vertical-align: top;\n",
       "    }\n",
       "\n",
       "    .dataframe thead th {\n",
       "        text-align: right;\n",
       "    }\n",
       "</style>\n",
       "<table border=\"1\" class=\"dataframe\">\n",
       "  <thead>\n",
       "    <tr style=\"text-align: right;\">\n",
       "      <th></th>\n",
       "      <th>Country Name</th>\n",
       "      <th>Country Code</th>\n",
       "      <th>Year</th>\n",
       "      <th>GDPAnnualPercent</th>\n",
       "      <th>GDPConstantUSD</th>\n",
       "    </tr>\n",
       "  </thead>\n",
       "  <tbody>\n",
       "    <tr>\n",
       "      <th>0</th>\n",
       "      <td>Afghanistan</td>\n",
       "      <td>AFG</td>\n",
       "      <td>1960</td>\n",
       "      <td>NaN</td>\n",
       "      <td>NaN</td>\n",
       "    </tr>\n",
       "    <tr>\n",
       "      <th>1</th>\n",
       "      <td>Afghanistan</td>\n",
       "      <td>AFG</td>\n",
       "      <td>1961</td>\n",
       "      <td>NaN</td>\n",
       "      <td>NaN</td>\n",
       "    </tr>\n",
       "    <tr>\n",
       "      <th>2</th>\n",
       "      <td>Afghanistan</td>\n",
       "      <td>AFG</td>\n",
       "      <td>1962</td>\n",
       "      <td>NaN</td>\n",
       "      <td>NaN</td>\n",
       "    </tr>\n",
       "  </tbody>\n",
       "</table>\n",
       "</div>"
      ],
      "text/plain": [
       "  Country Name Country Code  Year  GDPAnnualPercent  GDPConstantUSD\n",
       "0  Afghanistan          AFG  1960               NaN             NaN\n",
       "1  Afghanistan          AFG  1961               NaN             NaN\n",
       "2  Afghanistan          AFG  1962               NaN             NaN"
      ]
     },
     "execution_count": 906,
     "metadata": {},
     "output_type": "execute_result"
    }
   ],
   "source": [
    "gdp_by_country.head(3)"
   ]
  },
  {
   "cell_type": "code",
   "execution_count": 907,
   "id": "b20313a2",
   "metadata": {},
   "outputs": [
    {
     "data": {
      "text/html": [
       "<div>\n",
       "<style scoped>\n",
       "    .dataframe tbody tr th:only-of-type {\n",
       "        vertical-align: middle;\n",
       "    }\n",
       "\n",
       "    .dataframe tbody tr th {\n",
       "        vertical-align: top;\n",
       "    }\n",
       "\n",
       "    .dataframe thead th {\n",
       "        text-align: right;\n",
       "    }\n",
       "</style>\n",
       "<table border=\"1\" class=\"dataframe\">\n",
       "  <thead>\n",
       "    <tr style=\"text-align: right;\">\n",
       "      <th></th>\n",
       "      <th>Unnamed: 0</th>\n",
       "      <th>Region/Group</th>\n",
       "      <th>Country Code</th>\n",
       "      <th>year</th>\n",
       "      <th>population</th>\n",
       "      <th>gdp</th>\n",
       "      <th>co2</th>\n",
       "      <th>co2_per_capita</th>\n",
       "      <th>co2_per_gdp</th>\n",
       "      <th>co2_per_unit_energy</th>\n",
       "      <th>energy_per_gdp</th>\n",
       "    </tr>\n",
       "  </thead>\n",
       "  <tbody>\n",
       "    <tr>\n",
       "      <th>0</th>\n",
       "      <td>484</td>\n",
       "      <td>Africa</td>\n",
       "      <td>AFR</td>\n",
       "      <td>1960</td>\n",
       "      <td>283922289.0</td>\n",
       "      <td>NaN</td>\n",
       "      <td>156.567</td>\n",
       "      <td>0.552</td>\n",
       "      <td>0.345</td>\n",
       "      <td>NaN</td>\n",
       "      <td>NaN</td>\n",
       "    </tr>\n",
       "    <tr>\n",
       "      <th>1</th>\n",
       "      <td>485</td>\n",
       "      <td>Africa</td>\n",
       "      <td>AFR</td>\n",
       "      <td>1961</td>\n",
       "      <td>290814083.0</td>\n",
       "      <td>NaN</td>\n",
       "      <td>161.994</td>\n",
       "      <td>0.558</td>\n",
       "      <td>0.349</td>\n",
       "      <td>NaN</td>\n",
       "      <td>NaN</td>\n",
       "    </tr>\n",
       "    <tr>\n",
       "      <th>2</th>\n",
       "      <td>486</td>\n",
       "      <td>Africa</td>\n",
       "      <td>AFR</td>\n",
       "      <td>1962</td>\n",
       "      <td>297959967.0</td>\n",
       "      <td>NaN</td>\n",
       "      <td>166.335</td>\n",
       "      <td>0.559</td>\n",
       "      <td>0.346</td>\n",
       "      <td>NaN</td>\n",
       "      <td>NaN</td>\n",
       "    </tr>\n",
       "  </tbody>\n",
       "</table>\n",
       "</div>"
      ],
      "text/plain": [
       "   Unnamed: 0 Region/Group Country Code  year   population  gdp      co2  \\\n",
       "0         484       Africa          AFR  1960  283922289.0  NaN  156.567   \n",
       "1         485       Africa          AFR  1961  290814083.0  NaN  161.994   \n",
       "2         486       Africa          AFR  1962  297959967.0  NaN  166.335   \n",
       "\n",
       "   co2_per_capita  co2_per_gdp  co2_per_unit_energy  energy_per_gdp  \n",
       "0           0.552        0.345                  NaN             NaN  \n",
       "1           0.558        0.349                  NaN             NaN  \n",
       "2           0.559        0.346                  NaN             NaN  "
      ]
     },
     "execution_count": 907,
     "metadata": {},
     "output_type": "execute_result"
    }
   ],
   "source": [
    "co2_by_groups.head(3)"
   ]
  },
  {
   "cell_type": "code",
   "execution_count": 908,
   "id": "ece4e1dc",
   "metadata": {},
   "outputs": [
    {
     "data": {
      "text/html": [
       "<div>\n",
       "<style scoped>\n",
       "    .dataframe tbody tr th:only-of-type {\n",
       "        vertical-align: middle;\n",
       "    }\n",
       "\n",
       "    .dataframe tbody tr th {\n",
       "        vertical-align: top;\n",
       "    }\n",
       "\n",
       "    .dataframe thead th {\n",
       "        text-align: right;\n",
       "    }\n",
       "</style>\n",
       "<table border=\"1\" class=\"dataframe\">\n",
       "  <thead>\n",
       "    <tr style=\"text-align: right;\">\n",
       "      <th></th>\n",
       "      <th>Country Code</th>\n",
       "      <th>Region Group Name</th>\n",
       "      <th>Year</th>\n",
       "      <th>GDPAnnualPercent</th>\n",
       "      <th>GDPConstantUSD</th>\n",
       "    </tr>\n",
       "  </thead>\n",
       "  <tbody>\n",
       "    <tr>\n",
       "      <th>0</th>\n",
       "      <td>AFE</td>\n",
       "      <td>Africa Eastern and Southern</td>\n",
       "      <td>1960</td>\n",
       "      <td>NaN</td>\n",
       "      <td>1172.316285</td>\n",
       "    </tr>\n",
       "    <tr>\n",
       "      <th>1</th>\n",
       "      <td>AFE</td>\n",
       "      <td>Africa Eastern and Southern</td>\n",
       "      <td>1961</td>\n",
       "      <td>-2.136630</td>\n",
       "      <td>1147.268217</td>\n",
       "    </tr>\n",
       "    <tr>\n",
       "      <th>2</th>\n",
       "      <td>AFE</td>\n",
       "      <td>Africa Eastern and Southern</td>\n",
       "      <td>1962</td>\n",
       "      <td>5.009835</td>\n",
       "      <td>1204.744460</td>\n",
       "    </tr>\n",
       "  </tbody>\n",
       "</table>\n",
       "</div>"
      ],
      "text/plain": [
       "  Country Code            Region Group Name  Year  GDPAnnualPercent  \\\n",
       "0          AFE  Africa Eastern and Southern  1960               NaN   \n",
       "1          AFE  Africa Eastern and Southern  1961         -2.136630   \n",
       "2          AFE  Africa Eastern and Southern  1962          5.009835   \n",
       "\n",
       "   GDPConstantUSD  \n",
       "0     1172.316285  \n",
       "1     1147.268217  \n",
       "2     1204.744460  "
      ]
     },
     "execution_count": 908,
     "metadata": {},
     "output_type": "execute_result"
    }
   ],
   "source": [
    "gdp_by_groups.head(3)"
   ]
  },
  {
   "cell_type": "markdown",
   "id": "e995158c",
   "metadata": {},
   "source": [
    "## CO_2 Data by Country\n",
    "### Missing Data\n",
    "There is significant amouts of data missing. We will investigate patterns in the missing data to decide on a strategy."
   ]
  },
  {
   "cell_type": "code",
   "execution_count": 909,
   "id": "1714d7f0",
   "metadata": {},
   "outputs": [
    {
     "name": "stdout",
     "output_type": "stream",
     "text": [
      "<class 'pandas.core.frame.DataFrame'>\n",
      "RangeIndex: 13312 entries, 0 to 13311\n",
      "Data columns (total 11 columns):\n",
      " #   Column               Non-Null Count  Dtype  \n",
      "---  ------               --------------  -----  \n",
      " 0   Unnamed: 0           13312 non-null  int64  \n",
      " 1   country              13312 non-null  object \n",
      " 2   Country Code         13312 non-null  object \n",
      " 3   year                 13312 non-null  int64  \n",
      " 4   population           13312 non-null  float64\n",
      " 5   gdp                  9999 non-null   float64\n",
      " 6   co2                  12786 non-null  float64\n",
      " 7   co2_per_capita       12786 non-null  float64\n",
      " 8   co2_per_gdp          9887 non-null   float64\n",
      " 9   co2_per_unit_energy  9120 non-null   float64\n",
      " 10  energy_per_gdp       7683 non-null   float64\n",
      "dtypes: float64(7), int64(2), object(2)\n",
      "memory usage: 1.1+ MB\n"
     ]
    }
   ],
   "source": [
    "co2_by_country.info()"
   ]
  },
  {
   "cell_type": "code",
   "execution_count": 910,
   "id": "23d675f8",
   "metadata": {},
   "outputs": [
    {
     "name": "stdout",
     "output_type": "stream",
     "text": [
      "Unnamed: 0                0\n",
      "country                   0\n",
      "Country Code              0\n",
      "year                      0\n",
      "population                0\n",
      "gdp                    3313\n",
      "co2                     526\n",
      "co2_per_capita          526\n",
      "co2_per_gdp            3425\n",
      "co2_per_unit_energy    4192\n",
      "energy_per_gdp         5629\n",
      "dtype: int64\n"
     ]
    }
   ],
   "source": [
    "# Missing data found - check how many exactly\n",
    "print(co2_by_country.isnull().sum())"
   ]
  },
  {
   "cell_type": "code",
   "execution_count": 911,
   "id": "bbfe2aa5",
   "metadata": {},
   "outputs": [
    {
     "data": {
      "text/html": [
       "<div>\n",
       "<style scoped>\n",
       "    .dataframe tbody tr th:only-of-type {\n",
       "        vertical-align: middle;\n",
       "    }\n",
       "\n",
       "    .dataframe tbody tr th {\n",
       "        vertical-align: top;\n",
       "    }\n",
       "\n",
       "    .dataframe thead th {\n",
       "        text-align: right;\n",
       "    }\n",
       "</style>\n",
       "<table border=\"1\" class=\"dataframe\">\n",
       "  <thead>\n",
       "    <tr style=\"text-align: right;\">\n",
       "      <th></th>\n",
       "      <th>Country Name</th>\n",
       "      <th>Country Code</th>\n",
       "      <th>Year</th>\n",
       "      <th>Population</th>\n",
       "      <th>gdp</th>\n",
       "      <th>CO2</th>\n",
       "      <th>co2_per_capita</th>\n",
       "      <th>co2_per_gdp</th>\n",
       "      <th>co2_per_unit_energy</th>\n",
       "      <th>energy_per_gdp</th>\n",
       "    </tr>\n",
       "  </thead>\n",
       "  <tbody>\n",
       "    <tr>\n",
       "      <th>0</th>\n",
       "      <td>Afghanistan</td>\n",
       "      <td>AFG</td>\n",
       "      <td>1960</td>\n",
       "      <td>9035048.0</td>\n",
       "      <td>1.303325e+10</td>\n",
       "      <td>0.414</td>\n",
       "      <td>0.046</td>\n",
       "      <td>0.032</td>\n",
       "      <td>NaN</td>\n",
       "      <td>NaN</td>\n",
       "    </tr>\n",
       "    <tr>\n",
       "      <th>1</th>\n",
       "      <td>Afghanistan</td>\n",
       "      <td>AFG</td>\n",
       "      <td>1961</td>\n",
       "      <td>9214082.0</td>\n",
       "      <td>1.314629e+10</td>\n",
       "      <td>0.491</td>\n",
       "      <td>0.053</td>\n",
       "      <td>0.037</td>\n",
       "      <td>NaN</td>\n",
       "      <td>NaN</td>\n",
       "    </tr>\n",
       "    <tr>\n",
       "      <th>2</th>\n",
       "      <td>Afghanistan</td>\n",
       "      <td>AFG</td>\n",
       "      <td>1962</td>\n",
       "      <td>9404411.0</td>\n",
       "      <td>1.336763e+10</td>\n",
       "      <td>0.689</td>\n",
       "      <td>0.073</td>\n",
       "      <td>0.052</td>\n",
       "      <td>NaN</td>\n",
       "      <td>NaN</td>\n",
       "    </tr>\n",
       "  </tbody>\n",
       "</table>\n",
       "</div>"
      ],
      "text/plain": [
       "  Country Name Country Code  Year  Population           gdp    CO2  \\\n",
       "0  Afghanistan          AFG  1960   9035048.0  1.303325e+10  0.414   \n",
       "1  Afghanistan          AFG  1961   9214082.0  1.314629e+10  0.491   \n",
       "2  Afghanistan          AFG  1962   9404411.0  1.336763e+10  0.689   \n",
       "\n",
       "   co2_per_capita  co2_per_gdp  co2_per_unit_energy  energy_per_gdp  \n",
       "0           0.046        0.032                  NaN             NaN  \n",
       "1           0.053        0.037                  NaN             NaN  \n",
       "2           0.073        0.052                  NaN             NaN  "
      ]
     },
     "execution_count": 911,
     "metadata": {},
     "output_type": "execute_result"
    }
   ],
   "source": [
    "# Drop redundant index column\n",
    "co2_by_country = co2_by_country.drop(columns=[\"Unnamed: 0\"])\n",
    "\n",
    "# Rename columns for consistency with GDP data\n",
    "co2_by_country = co2_by_country.rename(columns={\n",
    "    \"country\": \"Country Name\",\n",
    "    \"year\": \"Year\",\n",
    "    \"population\": \"Population\",\n",
    "    \"co2\": \"CO2\"\n",
    "})\n",
    "co2_by_country.head(3)"
   ]
  },
  {
   "cell_type": "code",
   "execution_count": 912,
   "id": "8a005204",
   "metadata": {},
   "outputs": [
    {
     "name": "stdout",
     "output_type": "stream",
     "text": [
      "Country Name      0\n",
      "Country Code      0\n",
      "Year              0\n",
      "Population        0\n",
      "CO2             526\n",
      "dtype: int64\n"
     ]
    }
   ],
   "source": [
    "# We can remove gdp-related columns from the OWID data \n",
    "#   because we will join with the World Bank data in the Joining phase\n",
    "# Drop co2_per_unit_energy and co2_per_capita because these can be calculated later\n",
    "co2_by_country = co2_by_country.drop(['gdp', 'co2_per_gdp', 'energy_per_gdp', 'co2_per_unit_energy', 'co2_per_capita'], axis=1)\n",
    "print(co2_by_country.isnull().sum())"
   ]
  },
  {
   "cell_type": "code",
   "execution_count": 913,
   "id": "75aca52a",
   "metadata": {},
   "outputs": [
    {
     "data": {
      "text/plain": [
       "Country Name\n",
       "Monaco                      64\n",
       "San Marino                  64\n",
       "Eritrea                     34\n",
       "Kosovo                      34\n",
       "Timor-Leste                 34\n",
       "Marshall Islands            32\n",
       "Micronesia, Fed. Sts.       32\n",
       "Namibia                     31\n",
       "Turks and Caicos Islands    30\n",
       "West Bank and Gaza          30\n",
       "Lesotho                     30\n",
       "Tuvalu                      30\n",
       "Andorra                     30\n",
       "Botswana                    12\n",
       "Maldives                    11\n",
       "Bhutan                      10\n",
       "Nauru                        4\n",
       "Oman                         4\n",
       "Seychelles                   3\n",
       "British Virgin Islands       2\n",
       "Eswatini                     2\n",
       "Vanuatu                      2\n",
       "Kiribati                     1\n",
       "Name: Year, dtype: int64"
      ]
     },
     "metadata": {},
     "output_type": "display_data"
    }
   ],
   "source": [
    "# Investigate the missing co2 data\n",
    "missing_co2 = co2_by_country[co2_by_country['CO2'].isnull()]\n",
    "display(missing_co2.groupby('Country Name')['Year'].count().sort_values(ascending=False))"
   ]
  },
  {
   "cell_type": "markdown",
   "id": "6010be85",
   "metadata": {},
   "source": [
    "#### Comments\n",
    "Missing CO_2 data is minimal and can be safely dropped for this analysis."
   ]
  },
  {
   "cell_type": "code",
   "execution_count": 914,
   "id": "210c931d",
   "metadata": {},
   "outputs": [
    {
     "name": "stdout",
     "output_type": "stream",
     "text": [
      "Country Name    0\n",
      "Country Code    0\n",
      "Year            0\n",
      "Population      0\n",
      "CO2             0\n",
      "dtype: int64\n"
     ]
    }
   ],
   "source": [
    "co2_by_country = co2_by_country.dropna(subset=['CO2'])\n",
    "print(co2_by_country.isnull().sum())"
   ]
  },
  {
   "cell_type": "markdown",
   "id": "640e2a85",
   "metadata": {},
   "source": [
    "### Duplicated Data"
   ]
  },
  {
   "cell_type": "code",
   "execution_count": 915,
   "id": "d216b499",
   "metadata": {},
   "outputs": [
    {
     "data": {
      "text/html": [
       "<div>\n",
       "<style scoped>\n",
       "    .dataframe tbody tr th:only-of-type {\n",
       "        vertical-align: middle;\n",
       "    }\n",
       "\n",
       "    .dataframe tbody tr th {\n",
       "        vertical-align: top;\n",
       "    }\n",
       "\n",
       "    .dataframe thead th {\n",
       "        text-align: right;\n",
       "    }\n",
       "</style>\n",
       "<table border=\"1\" class=\"dataframe\">\n",
       "  <thead>\n",
       "    <tr style=\"text-align: right;\">\n",
       "      <th></th>\n",
       "      <th>Country Name</th>\n",
       "      <th>Country Code</th>\n",
       "      <th>Year</th>\n",
       "      <th>Population</th>\n",
       "      <th>CO2</th>\n",
       "    </tr>\n",
       "  </thead>\n",
       "  <tbody>\n",
       "  </tbody>\n",
       "</table>\n",
       "</div>"
      ],
      "text/plain": [
       "Empty DataFrame\n",
       "Columns: [Country Name, Country Code, Year, Population, CO2]\n",
       "Index: []"
      ]
     },
     "execution_count": 915,
     "metadata": {},
     "output_type": "execute_result"
    }
   ],
   "source": [
    "# Search for duplicate data\n",
    "duplicates = co2_by_country[co2_by_country.duplicated()]\n",
    "duplicates"
   ]
  },
  {
   "cell_type": "markdown",
   "id": "8d500a9c",
   "metadata": {},
   "source": [
    "### Outliers"
   ]
  },
  {
   "cell_type": "code",
   "execution_count": 916,
   "id": "5634639c",
   "metadata": {},
   "outputs": [
    {
     "data": {
      "image/png": "[encoded data removed]",
      "text/plain": [
       "<Figure size 1200x600 with 2 Axes>"
      ]
     },
     "metadata": {},
     "output_type": "display_data"
    }
   ],
   "source": [
    "# Visual inspection of data patterns\n",
    "fig, axes = plt.subplots(1,2, figsize=(12,6))\n",
    "axes = axes.flatten()\n",
    "\n",
    "# Boxplot for co2\n",
    "sns.boxplot(data=co2_by_country, x='CO2', ax=axes[0])\n",
    "axes[0].set_title('Boxplot of CO2 Emissions')\n",
    "\n",
    "# Boxplot for population\n",
    "sns.boxplot(data=co2_by_country, x='Population', ax=axes[1])\n",
    "axes[1].set_title('Boxplot of population')\n",
    "\n",
    "plt.tight_layout()\n",
    "plt.show()"
   ]
  },
  {
   "cell_type": "markdown",
   "id": "44d4d630",
   "metadata": {},
   "source": [
    "#### Comments\n",
    "Both **boxplots** show heavy skew, which makes sense because some countries have vastly larger values than others. Most countries fall into the lower range. Plots are difficult to interpret without transformation, so log transformation will be tested."
   ]
  },
  {
   "cell_type": "markdown",
   "id": "76cd47de",
   "metadata": {},
   "source": [
    "### IQR Testing\n",
    "The large number of outliers tells us that outlier testing is not enough on its own. Some countries are high emitters."
   ]
  },
  {
   "cell_type": "code",
   "execution_count": 917,
   "id": "4dd6a713",
   "metadata": {},
   "outputs": [
    {
     "data": {
      "text/plain": [
       "Country Name\n",
       "Algeria                      12\n",
       "Argentina                    26\n",
       "Australia                    55\n",
       "Belgium                       5\n",
       "Brazil                       50\n",
       "Canada                       64\n",
       "China                        64\n",
       "Czechia                      26\n",
       "Egypt, Arab Rep.             22\n",
       "France                       64\n",
       "Germany                      64\n",
       "India                        61\n",
       "Indonesia                    34\n",
       "Iran, Islamic Rep.           48\n",
       "Iraq                         11\n",
       "Italy                        62\n",
       "Japan                        64\n",
       "Kazakhstan                   56\n",
       "Korea, Dem. People's Rep.     6\n",
       "Korea, Rep.                  44\n",
       "Kuwait                        1\n",
       "Malaysia                     21\n",
       "Mexico                       51\n",
       "Netherlands                  51\n",
       "Nigeria                       1\n",
       "Pakistan                     18\n",
       "Philippines                   6\n",
       "Poland                       64\n",
       "Romania                      19\n",
       "Russian Federation           64\n",
       "Saudi Arabia                 45\n",
       "South Africa                 56\n",
       "Spain                        52\n",
       "Taiwan                       32\n",
       "Thailand                     30\n",
       "Turkiye                      35\n",
       "Ukraine                      64\n",
       "United Arab Emirates         16\n",
       "United Kingdom               64\n",
       "United States                64\n",
       "Venezuela, RB                19\n",
       "Viet Nam                     14\n",
       "dtype: int64"
      ]
     },
     "execution_count": 917,
     "metadata": {},
     "output_type": "execute_result"
    }
   ],
   "source": [
    "Q1 = co2_by_country['CO2'].quantile(0.25)\n",
    "Q3 = co2_by_country['CO2'].quantile(0.75)\n",
    "IQR = Q3 - Q1\n",
    "\n",
    "co2_by_country['CO2 Outliers'] = (\n",
    "    (co2_by_country['CO2'] < Q1 - 3 * IQR) | # Using an aggressive threshold\n",
    "    (co2_by_country['CO2'] > Q1 + 3 * IQR)\n",
    ")\n",
    "co2_by_country[co2_by_country['CO2 Outliers']].groupby('Country Name').size()"
   ]
  },
  {
   "cell_type": "markdown",
   "id": "a6480b17",
   "metadata": {},
   "source": [
    "### Feature Engineering\n",
    "First, we will compute Per capita CO2 and the cumulative CO2 emissions by country, which is useful to see countries' long-term responsibility of emissions. Then we will categorize the country according to their level of emissions. Finally, we will apply a log transformation that will aid in future regression analysis."
   ]
  },
  {
   "cell_type": "code",
   "execution_count": 918,
   "id": "2849da31",
   "metadata": {},
   "outputs": [],
   "source": [
    "# Basic per capital co2 calculation per country per year\n",
    "co2_by_country['Per Capita CO2'] = co2_by_country['CO2'] / co2_by_country['Population']"
   ]
  },
  {
   "cell_type": "code",
   "execution_count": 919,
   "id": "06db1112",
   "metadata": {},
   "outputs": [
    {
     "data": {
      "text/html": [
       "<div>\n",
       "<style scoped>\n",
       "    .dataframe tbody tr th:only-of-type {\n",
       "        vertical-align: middle;\n",
       "    }\n",
       "\n",
       "    .dataframe tbody tr th {\n",
       "        vertical-align: top;\n",
       "    }\n",
       "\n",
       "    .dataframe thead th {\n",
       "        text-align: right;\n",
       "    }\n",
       "</style>\n",
       "<table border=\"1\" class=\"dataframe\">\n",
       "  <thead>\n",
       "    <tr style=\"text-align: right;\">\n",
       "      <th></th>\n",
       "      <th>Country Name</th>\n",
       "      <th>Cumulative CO2</th>\n",
       "    </tr>\n",
       "  </thead>\n",
       "  <tbody>\n",
       "    <tr>\n",
       "      <th>196</th>\n",
       "      <td>United States</td>\n",
       "      <td>315589.222</td>\n",
       "    </tr>\n",
       "    <tr>\n",
       "      <th>38</th>\n",
       "      <td>China</td>\n",
       "      <td>267828.706</td>\n",
       "    </tr>\n",
       "    <tr>\n",
       "      <th>152</th>\n",
       "      <td>Russian Federation</td>\n",
       "      <td>108852.703</td>\n",
       "    </tr>\n",
       "    <tr>\n",
       "      <th>92</th>\n",
       "      <td>Japan</td>\n",
       "      <td>63239.585</td>\n",
       "    </tr>\n",
       "    <tr>\n",
       "      <th>84</th>\n",
       "      <td>India</td>\n",
       "      <td>60149.382</td>\n",
       "    </tr>\n",
       "    <tr>\n",
       "      <th>70</th>\n",
       "      <td>Germany</td>\n",
       "      <td>59140.753</td>\n",
       "    </tr>\n",
       "    <tr>\n",
       "      <th>195</th>\n",
       "      <td>United Kingdom</td>\n",
       "      <td>34973.971</td>\n",
       "    </tr>\n",
       "    <tr>\n",
       "      <th>34</th>\n",
       "      <td>Canada</td>\n",
       "      <td>29095.718</td>\n",
       "    </tr>\n",
       "    <tr>\n",
       "      <th>193</th>\n",
       "      <td>Ukraine</td>\n",
       "      <td>27141.105</td>\n",
       "    </tr>\n",
       "    <tr>\n",
       "      <th>65</th>\n",
       "      <td>France</td>\n",
       "      <td>25591.343</td>\n",
       "    </tr>\n",
       "  </tbody>\n",
       "</table>\n",
       "</div>"
      ],
      "text/plain": [
       "           Country Name  Cumulative CO2\n",
       "196       United States      315589.222\n",
       "38                China      267828.706\n",
       "152  Russian Federation      108852.703\n",
       "92                Japan       63239.585\n",
       "84                India       60149.382\n",
       "70              Germany       59140.753\n",
       "195      United Kingdom       34973.971\n",
       "34               Canada       29095.718\n",
       "193             Ukraine       27141.105\n",
       "65               France       25591.343"
      ]
     },
     "execution_count": 919,
     "metadata": {},
     "output_type": "execute_result"
    }
   ],
   "source": [
    "# Compute cumulative CO2 emissions by country\n",
    "cumulative_co2 = co2_by_country.groupby('Country Name', as_index=False)['CO2'].sum()\n",
    "cumulative_co2 = cumulative_co2.rename(columns={'CO2': \"Cumulative CO2\"})\n",
    "\n",
    "# Merge cumulative into the DataFrame\n",
    "co2_by_country = co2_by_country.merge(cumulative_co2, on=\"Country Name\", how='left')\n",
    "\n",
    "# Display the 10 highest emitters (cumulative)\n",
    "top_emitters = cumulative_co2.sort_values('Cumulative CO2', ascending=False).head(10)\n",
    "top_emitters"
   ]
  },
  {
   "cell_type": "code",
   "execution_count": 920,
   "id": "e38fcfef",
   "metadata": {},
   "outputs": [
    {
     "data": {
      "text/html": [
       "<div>\n",
       "<style scoped>\n",
       "    .dataframe tbody tr th:only-of-type {\n",
       "        vertical-align: middle;\n",
       "    }\n",
       "\n",
       "    .dataframe tbody tr th {\n",
       "        vertical-align: top;\n",
       "    }\n",
       "\n",
       "    .dataframe thead th {\n",
       "        text-align: right;\n",
       "    }\n",
       "</style>\n",
       "<table border=\"1\" class=\"dataframe\">\n",
       "  <thead>\n",
       "    <tr style=\"text-align: right;\">\n",
       "      <th></th>\n",
       "      <th>Country Name</th>\n",
       "      <th>Country Code</th>\n",
       "      <th>Year</th>\n",
       "      <th>Population</th>\n",
       "      <th>CO2</th>\n",
       "      <th>CO2 Outliers</th>\n",
       "      <th>Per Capita CO2</th>\n",
       "      <th>Cumulative CO2</th>\n",
       "    </tr>\n",
       "  </thead>\n",
       "  <tbody>\n",
       "    <tr>\n",
       "      <th>0</th>\n",
       "      <td>Afghanistan</td>\n",
       "      <td>AFG</td>\n",
       "      <td>1960</td>\n",
       "      <td>9035048.0</td>\n",
       "      <td>0.414</td>\n",
       "      <td>False</td>\n",
       "      <td>4.582156e-08</td>\n",
       "      <td>235.001</td>\n",
       "    </tr>\n",
       "    <tr>\n",
       "      <th>1</th>\n",
       "      <td>Afghanistan</td>\n",
       "      <td>AFG</td>\n",
       "      <td>1961</td>\n",
       "      <td>9214082.0</td>\n",
       "      <td>0.491</td>\n",
       "      <td>False</td>\n",
       "      <td>5.328800e-08</td>\n",
       "      <td>235.001</td>\n",
       "    </tr>\n",
       "    <tr>\n",
       "      <th>2</th>\n",
       "      <td>Afghanistan</td>\n",
       "      <td>AFG</td>\n",
       "      <td>1962</td>\n",
       "      <td>9404411.0</td>\n",
       "      <td>0.689</td>\n",
       "      <td>False</td>\n",
       "      <td>7.326349e-08</td>\n",
       "      <td>235.001</td>\n",
       "    </tr>\n",
       "  </tbody>\n",
       "</table>\n",
       "</div>"
      ],
      "text/plain": [
       "  Country Name Country Code  Year  Population    CO2  CO2 Outliers  \\\n",
       "0  Afghanistan          AFG  1960   9035048.0  0.414         False   \n",
       "1  Afghanistan          AFG  1961   9214082.0  0.491         False   \n",
       "2  Afghanistan          AFG  1962   9404411.0  0.689         False   \n",
       "\n",
       "   Per Capita CO2  Cumulative CO2  \n",
       "0    4.582156e-08         235.001  \n",
       "1    5.328800e-08         235.001  \n",
       "2    7.326349e-08         235.001  "
      ]
     },
     "execution_count": 920,
     "metadata": {},
     "output_type": "execute_result"
    }
   ],
   "source": [
    "# Preview change to DataFrame\n",
    "co2_by_country.head(3)"
   ]
  },
  {
   "cell_type": "code",
   "execution_count": 921,
   "id": "2fb6bd40",
   "metadata": {},
   "outputs": [],
   "source": [
    "# Add column to categorize level of emissions using quantile-based bins\n",
    "co2_by_country['Emissions Category'] = pd.qcut(\n",
    "    co2_by_country['Cumulative CO2'],\n",
    "    q=4,\n",
    "    labels=['Low', 'Moderate', 'High', 'Very High']\n",
    ")"
   ]
  },
  {
   "cell_type": "code",
   "execution_count": 922,
   "id": "68142df3",
   "metadata": {},
   "outputs": [
    {
     "data": {
      "text/html": [
       "<div>\n",
       "<style scoped>\n",
       "    .dataframe tbody tr th:only-of-type {\n",
       "        vertical-align: middle;\n",
       "    }\n",
       "\n",
       "    .dataframe tbody tr th {\n",
       "        vertical-align: top;\n",
       "    }\n",
       "\n",
       "    .dataframe thead th {\n",
       "        text-align: right;\n",
       "    }\n",
       "</style>\n",
       "<table border=\"1\" class=\"dataframe\">\n",
       "  <thead>\n",
       "    <tr style=\"text-align: right;\">\n",
       "      <th></th>\n",
       "      <th>Country Name</th>\n",
       "      <th>Country Code</th>\n",
       "      <th>Year</th>\n",
       "      <th>Population</th>\n",
       "      <th>CO2</th>\n",
       "      <th>CO2 Outliers</th>\n",
       "      <th>Per Capita CO2</th>\n",
       "      <th>Cumulative CO2</th>\n",
       "      <th>Emissions Category</th>\n",
       "      <th>CO2 Log</th>\n",
       "      <th>Pop Log</th>\n",
       "    </tr>\n",
       "  </thead>\n",
       "  <tbody>\n",
       "    <tr>\n",
       "      <th>0</th>\n",
       "      <td>Afghanistan</td>\n",
       "      <td>AFG</td>\n",
       "      <td>1960</td>\n",
       "      <td>9035048.0</td>\n",
       "      <td>0.414</td>\n",
       "      <td>False</td>\n",
       "      <td>4.582156e-08</td>\n",
       "      <td>235.001</td>\n",
       "      <td>Moderate</td>\n",
       "      <td>0.346423</td>\n",
       "      <td>16.016622</td>\n",
       "    </tr>\n",
       "    <tr>\n",
       "      <th>1</th>\n",
       "      <td>Afghanistan</td>\n",
       "      <td>AFG</td>\n",
       "      <td>1961</td>\n",
       "      <td>9214082.0</td>\n",
       "      <td>0.491</td>\n",
       "      <td>False</td>\n",
       "      <td>5.328800e-08</td>\n",
       "      <td>235.001</td>\n",
       "      <td>Moderate</td>\n",
       "      <td>0.399447</td>\n",
       "      <td>16.036244</td>\n",
       "    </tr>\n",
       "    <tr>\n",
       "      <th>2</th>\n",
       "      <td>Afghanistan</td>\n",
       "      <td>AFG</td>\n",
       "      <td>1962</td>\n",
       "      <td>9404411.0</td>\n",
       "      <td>0.689</td>\n",
       "      <td>False</td>\n",
       "      <td>7.326349e-08</td>\n",
       "      <td>235.001</td>\n",
       "      <td>Moderate</td>\n",
       "      <td>0.524137</td>\n",
       "      <td>16.056689</td>\n",
       "    </tr>\n",
       "  </tbody>\n",
       "</table>\n",
       "</div>"
      ],
      "text/plain": [
       "  Country Name Country Code  Year  Population    CO2  CO2 Outliers  \\\n",
       "0  Afghanistan          AFG  1960   9035048.0  0.414         False   \n",
       "1  Afghanistan          AFG  1961   9214082.0  0.491         False   \n",
       "2  Afghanistan          AFG  1962   9404411.0  0.689         False   \n",
       "\n",
       "   Per Capita CO2  Cumulative CO2 Emissions Category   CO2 Log    Pop Log  \n",
       "0    4.582156e-08         235.001           Moderate  0.346423  16.016622  \n",
       "1    5.328800e-08         235.001           Moderate  0.399447  16.036244  \n",
       "2    7.326349e-08         235.001           Moderate  0.524137  16.056689  "
      ]
     },
     "execution_count": 922,
     "metadata": {},
     "output_type": "execute_result"
    }
   ],
   "source": [
    "# Add a column with Log transformation of co2 and population to soften skew\n",
    "co2_by_country['CO2 Log'] = np.log1p(co2_by_country['CO2'])\n",
    "co2_by_country['Pop Log'] = np.log1p(co2_by_country['Population'])\n",
    "\n",
    "# Preview change to DataFrame\n",
    "co2_by_country.head(3)"
   ]
  },
  {
   "cell_type": "code",
   "execution_count": 923,
   "id": "c4f0af6b",
   "metadata": {},
   "outputs": [
    {
     "data": {
      "image/png": "[encoded data removed]",
      "text/plain": [
       "<Figure size 1200x600 with 2 Axes>"
      ]
     },
     "metadata": {},
     "output_type": "display_data"
    }
   ],
   "source": [
    "# Visualize again\n",
    "# Visual inspection of data patterns\n",
    "fig, axes = plt.subplots(1,2, figsize=(12,6))\n",
    "axes = axes.flatten()\n",
    "\n",
    "# Boxplot for co2\n",
    "sns.boxplot(data=co2_by_country, x='CO2 Log', ax=axes[0])\n",
    "axes[0].set_title('Boxplot of Log Transformed CO2 Emissions')\n",
    "\n",
    "# Boxplot for population\n",
    "sns.boxplot(data=co2_by_country, x='Pop Log', ax=axes[1])\n",
    "axes[1].set_title('Boxplot of population')\n",
    "\n",
    "plt.tight_layout()\n",
    "plt.show()"
   ]
  },
  {
   "cell_type": "code",
   "execution_count": 924,
   "id": "f89f996e",
   "metadata": {},
   "outputs": [
    {
     "data": {
      "text/plain": [
       "CO2 Outliers\n",
       "False      11161\n",
       "True        1497\n",
       "extreme      128\n",
       "Name: count, dtype: int64"
      ]
     },
     "execution_count": 924,
     "metadata": {},
     "output_type": "execute_result"
    }
   ],
   "source": [
    "# Flag extreme outliers of co2\n",
    "extreme_outliers = co2_by_country['CO2 Log'].quantile(0.99)\n",
    "\n",
    "# Update CO2 Outliers column to reflect flagging\n",
    "co2_by_country.loc[co2_by_country['CO2 Log'] > extreme_outliers, 'CO2 Outliers'] = 'extreme'\n",
    "\n",
    "co2_by_country['CO2 Outliers'].value_counts()"
   ]
  },
  {
   "cell_type": "code",
   "execution_count": 925,
   "id": "da91f8fd",
   "metadata": {},
   "outputs": [],
   "source": [
    "# Flag outliers of population - critical for statistical modeling\n",
    "population_low = co2_by_country['Pop Log'].quantile(0.01)\n",
    "population_high = co2_by_country['Pop Log'].quantile(0.99)\n",
    "\n",
    "# Create column to flag outliers\n",
    "co2_by_country['Pop Outliers'] = 'not outlier'   # Default value\n",
    "co2_by_country.loc[co2_by_country['Pop Log'] < population_low, 'Pop Outliers'] = 'low outlier'\n",
    "co2_by_country.loc[co2_by_country['Pop Log'] > population_high, 'Pop Outliers'] = 'high outlier'"
   ]
  },
  {
   "cell_type": "code",
   "execution_count": 926,
   "id": "fb3c3215",
   "metadata": {},
   "outputs": [
    {
     "data": {
      "text/html": [
       "<div>\n",
       "<style scoped>\n",
       "    .dataframe tbody tr th:only-of-type {\n",
       "        vertical-align: middle;\n",
       "    }\n",
       "\n",
       "    .dataframe tbody tr th {\n",
       "        vertical-align: top;\n",
       "    }\n",
       "\n",
       "    .dataframe thead th {\n",
       "        text-align: right;\n",
       "    }\n",
       "</style>\n",
       "<table border=\"1\" class=\"dataframe\">\n",
       "  <thead>\n",
       "    <tr style=\"text-align: right;\">\n",
       "      <th></th>\n",
       "      <th>Country Name</th>\n",
       "      <th>Country Code</th>\n",
       "      <th>Year</th>\n",
       "      <th>Population</th>\n",
       "      <th>CO2</th>\n",
       "      <th>CO2 Outliers</th>\n",
       "      <th>Per Capita CO2</th>\n",
       "      <th>Cumulative CO2</th>\n",
       "      <th>Emissions Category</th>\n",
       "      <th>CO2 Log</th>\n",
       "      <th>Pop Log</th>\n",
       "      <th>Pop Outliers</th>\n",
       "      <th>Pop Category</th>\n",
       "    </tr>\n",
       "  </thead>\n",
       "  <tbody>\n",
       "    <tr>\n",
       "      <th>0</th>\n",
       "      <td>Afghanistan</td>\n",
       "      <td>AFG</td>\n",
       "      <td>1960</td>\n",
       "      <td>9035048.0</td>\n",
       "      <td>0.414</td>\n",
       "      <td>False</td>\n",
       "      <td>4.582156e-08</td>\n",
       "      <td>235.001</td>\n",
       "      <td>Moderate</td>\n",
       "      <td>0.346423</td>\n",
       "      <td>16.016622</td>\n",
       "      <td>not outlier</td>\n",
       "      <td>1M-10M</td>\n",
       "    </tr>\n",
       "    <tr>\n",
       "      <th>1</th>\n",
       "      <td>Afghanistan</td>\n",
       "      <td>AFG</td>\n",
       "      <td>1961</td>\n",
       "      <td>9214082.0</td>\n",
       "      <td>0.491</td>\n",
       "      <td>False</td>\n",
       "      <td>5.328800e-08</td>\n",
       "      <td>235.001</td>\n",
       "      <td>Moderate</td>\n",
       "      <td>0.399447</td>\n",
       "      <td>16.036244</td>\n",
       "      <td>not outlier</td>\n",
       "      <td>1M-10M</td>\n",
       "    </tr>\n",
       "    <tr>\n",
       "      <th>2</th>\n",
       "      <td>Afghanistan</td>\n",
       "      <td>AFG</td>\n",
       "      <td>1962</td>\n",
       "      <td>9404411.0</td>\n",
       "      <td>0.689</td>\n",
       "      <td>False</td>\n",
       "      <td>7.326349e-08</td>\n",
       "      <td>235.001</td>\n",
       "      <td>Moderate</td>\n",
       "      <td>0.524137</td>\n",
       "      <td>16.056689</td>\n",
       "      <td>not outlier</td>\n",
       "      <td>1M-10M</td>\n",
       "    </tr>\n",
       "  </tbody>\n",
       "</table>\n",
       "</div>"
      ],
      "text/plain": [
       "  Country Name Country Code  Year  Population    CO2 CO2 Outliers  \\\n",
       "0  Afghanistan          AFG  1960   9035048.0  0.414        False   \n",
       "1  Afghanistan          AFG  1961   9214082.0  0.491        False   \n",
       "2  Afghanistan          AFG  1962   9404411.0  0.689        False   \n",
       "\n",
       "   Per Capita CO2  Cumulative CO2 Emissions Category   CO2 Log    Pop Log  \\\n",
       "0    4.582156e-08         235.001           Moderate  0.346423  16.016622   \n",
       "1    5.328800e-08         235.001           Moderate  0.399447  16.036244   \n",
       "2    7.326349e-08         235.001           Moderate  0.524137  16.056689   \n",
       "\n",
       "  Pop Outliers Pop Category  \n",
       "0  not outlier       1M-10M  \n",
       "1  not outlier       1M-10M  \n",
       "2  not outlier       1M-10M  "
      ]
     },
     "execution_count": 926,
     "metadata": {},
     "output_type": "execute_result"
    }
   ],
   "source": [
    "# Create bucket categories for population\n",
    "bins = [0, 1e6, 10e6, 100e6, 1e9, float('inf')]\n",
    "labels = ['<1M', '1M-10M', '10M-100M', '100M-1B', '1B+']\n",
    "co2_by_country['Pop Category'] = pd.cut(co2_by_country['Population'], bins=bins, labels=labels)\n",
    "\n",
    "# Preview changes to DataFrame\n",
    "co2_by_country.head(3)"
   ]
  },
  {
   "cell_type": "markdown",
   "id": "788348c6",
   "metadata": {},
   "source": [
    "---"
   ]
  },
  {
   "cell_type": "markdown",
   "id": "bedd1386",
   "metadata": {},
   "source": [
    "## CO_2 Data by Group\n",
    "### Missing Data"
   ]
  },
  {
   "cell_type": "code",
   "execution_count": 927,
   "id": "e57037f4",
   "metadata": {},
   "outputs": [
    {
     "name": "stdout",
     "output_type": "stream",
     "text": [
      "<class 'pandas.core.frame.DataFrame'>\n",
      "RangeIndex: 832 entries, 0 to 831\n",
      "Data columns (total 11 columns):\n",
      " #   Column               Non-Null Count  Dtype  \n",
      "---  ------               --------------  -----  \n",
      " 0   Unnamed: 0           832 non-null    int64  \n",
      " 1   Region/Group         832 non-null    object \n",
      " 2   Country Code         832 non-null    object \n",
      " 3   year                 832 non-null    int64  \n",
      " 4   population           576 non-null    float64\n",
      " 5   gdp                  14 non-null     float64\n",
      " 6   co2                  832 non-null    float64\n",
      " 7   co2_per_capita       832 non-null    float64\n",
      " 8   co2_per_gdp          770 non-null    float64\n",
      " 9   co2_per_unit_energy  767 non-null    float64\n",
      " 10  energy_per_gdp       13 non-null     float64\n",
      "dtypes: float64(7), int64(2), object(2)\n",
      "memory usage: 71.6+ KB\n"
     ]
    }
   ],
   "source": [
    "co2_by_groups.info()"
   ]
  },
  {
   "cell_type": "code",
   "execution_count": 928,
   "id": "b22e9428",
   "metadata": {},
   "outputs": [
    {
     "name": "stdout",
     "output_type": "stream",
     "text": [
      "Unnamed: 0               0\n",
      "Region/Group             0\n",
      "Country Code             0\n",
      "year                     0\n",
      "population             256\n",
      "gdp                    818\n",
      "co2                      0\n",
      "co2_per_capita           0\n",
      "co2_per_gdp             62\n",
      "co2_per_unit_energy     65\n",
      "energy_per_gdp         819\n",
      "dtype: int64\n"
     ]
    }
   ],
   "source": [
    "# Missing data found - check how many exactly\n",
    "print(co2_by_groups.isnull().sum())"
   ]
  },
  {
   "cell_type": "code",
   "execution_count": 929,
   "id": "b5d64b4b",
   "metadata": {},
   "outputs": [
    {
     "data": {
      "text/html": [
       "<div>\n",
       "<style scoped>\n",
       "    .dataframe tbody tr th:only-of-type {\n",
       "        vertical-align: middle;\n",
       "    }\n",
       "\n",
       "    .dataframe tbody tr th {\n",
       "        vertical-align: top;\n",
       "    }\n",
       "\n",
       "    .dataframe thead th {\n",
       "        text-align: right;\n",
       "    }\n",
       "</style>\n",
       "<table border=\"1\" class=\"dataframe\">\n",
       "  <thead>\n",
       "    <tr style=\"text-align: right;\">\n",
       "      <th></th>\n",
       "      <th>Region/Group</th>\n",
       "      <th>Country Code</th>\n",
       "      <th>Year</th>\n",
       "      <th>Population</th>\n",
       "      <th>gdp</th>\n",
       "      <th>CO2</th>\n",
       "      <th>co2_per_capita</th>\n",
       "      <th>co2_per_gdp</th>\n",
       "      <th>co2_per_unit_energy</th>\n",
       "      <th>energy_per_gdp</th>\n",
       "    </tr>\n",
       "  </thead>\n",
       "  <tbody>\n",
       "    <tr>\n",
       "      <th>0</th>\n",
       "      <td>Africa</td>\n",
       "      <td>AFR</td>\n",
       "      <td>1960</td>\n",
       "      <td>283922289.0</td>\n",
       "      <td>NaN</td>\n",
       "      <td>156.567</td>\n",
       "      <td>0.552</td>\n",
       "      <td>0.345</td>\n",
       "      <td>NaN</td>\n",
       "      <td>NaN</td>\n",
       "    </tr>\n",
       "    <tr>\n",
       "      <th>1</th>\n",
       "      <td>Africa</td>\n",
       "      <td>AFR</td>\n",
       "      <td>1961</td>\n",
       "      <td>290814083.0</td>\n",
       "      <td>NaN</td>\n",
       "      <td>161.994</td>\n",
       "      <td>0.558</td>\n",
       "      <td>0.349</td>\n",
       "      <td>NaN</td>\n",
       "      <td>NaN</td>\n",
       "    </tr>\n",
       "    <tr>\n",
       "      <th>2</th>\n",
       "      <td>Africa</td>\n",
       "      <td>AFR</td>\n",
       "      <td>1962</td>\n",
       "      <td>297959967.0</td>\n",
       "      <td>NaN</td>\n",
       "      <td>166.335</td>\n",
       "      <td>0.559</td>\n",
       "      <td>0.346</td>\n",
       "      <td>NaN</td>\n",
       "      <td>NaN</td>\n",
       "    </tr>\n",
       "  </tbody>\n",
       "</table>\n",
       "</div>"
      ],
      "text/plain": [
       "  Region/Group Country Code  Year   Population  gdp      CO2  co2_per_capita  \\\n",
       "0       Africa          AFR  1960  283922289.0  NaN  156.567           0.552   \n",
       "1       Africa          AFR  1961  290814083.0  NaN  161.994           0.558   \n",
       "2       Africa          AFR  1962  297959967.0  NaN  166.335           0.559   \n",
       "\n",
       "   co2_per_gdp  co2_per_unit_energy  energy_per_gdp  \n",
       "0        0.345                  NaN             NaN  \n",
       "1        0.349                  NaN             NaN  \n",
       "2        0.346                  NaN             NaN  "
      ]
     },
     "execution_count": 929,
     "metadata": {},
     "output_type": "execute_result"
    }
   ],
   "source": [
    "# Drop redundant index column\n",
    "co2_by_groups = co2_by_groups.drop(columns=[\"Unnamed: 0\"])\n",
    "\n",
    "# Rename columns for consistency with GDP data\n",
    "co2_by_groups = co2_by_groups.rename(columns={\n",
    "    \"year\": \"Year\",\n",
    "    \"population\": \"Population\",\n",
    "    'co2': 'CO2'\n",
    "})\n",
    "co2_by_groups.head(3)"
   ]
  },
  {
   "cell_type": "code",
   "execution_count": 930,
   "id": "f4a99864",
   "metadata": {},
   "outputs": [
    {
     "name": "stdout",
     "output_type": "stream",
     "text": [
      "Region/Group      0\n",
      "Country Code      0\n",
      "Year              0\n",
      "Population      256\n",
      "CO2               0\n",
      "dtype: int64\n"
     ]
    }
   ],
   "source": [
    "# We can remove gdp-related columns from the OWID data \n",
    "#   because we will join with the World Bank data in the Joining phase\n",
    "# Drop co2_per_unit_energy and co2_per_capita because these can be calculated later\n",
    "co2_by_groups = co2_by_groups.drop(['gdp', 'co2_per_gdp', 'energy_per_gdp', 'co2_per_unit_energy', 'co2_per_capita'], axis=1)\n",
    "print(co2_by_groups.isnull().sum())"
   ]
  },
  {
   "cell_type": "code",
   "execution_count": 931,
   "id": "33780f0d",
   "metadata": {},
   "outputs": [
    {
     "data": {
      "text/plain": [
       "Region/Group\n",
       "Europe (excl. EU-27)         64\n",
       "Europe (excl. EU-28)         64\n",
       "European Union (28)          64\n",
       "North America (excl. USA)    64\n",
       "Name: Year, dtype: int64"
      ]
     },
     "metadata": {},
     "output_type": "display_data"
    }
   ],
   "source": [
    "# Investigate the missing population data\n",
    "missing_co2_groups = co2_by_groups[co2_by_groups['Population'].isnull()]\n",
    "display(missing_co2_groups.groupby('Region/Group')['Year'].count().sort_values(ascending=False))"
   ]
  },
  {
   "cell_type": "markdown",
   "id": "ad9fb142",
   "metadata": {},
   "source": [
    "#### Comments\n",
    "These are political divisions that can be merged."
   ]
  },
  {
   "cell_type": "code",
   "execution_count": 932,
   "id": "e4fb92b5",
   "metadata": {},
   "outputs": [
    {
     "data": {
      "text/plain": [
       "array(['Africa', 'Asia', 'Asia (excl. China and India)', 'Europe',\n",
       "       'Europe (excl. EU-27)', 'Europe (excl. EU-28)',\n",
       "       'European Union (27)', 'European Union (28)', 'North America',\n",
       "       'North America (excl. USA)', 'Oceania', 'South America', 'World'],\n",
       "      dtype=object)"
      ]
     },
     "execution_count": 932,
     "metadata": {},
     "output_type": "execute_result"
    }
   ],
   "source": [
    "co2_by_groups['Region/Group'].unique()"
   ]
  },
  {
   "cell_type": "code",
   "execution_count": 933,
   "id": "5c88a268",
   "metadata": {},
   "outputs": [
    {
     "data": {
      "text/plain": [
       "Continent\n",
       "Europe           320\n",
       "Asia             128\n",
       "North America    128\n",
       "Africa            64\n",
       "Oceania           64\n",
       "South America     64\n",
       "World             64\n",
       "Name: count, dtype: int64"
      ]
     },
     "execution_count": 933,
     "metadata": {},
     "output_type": "execute_result"
    }
   ],
   "source": [
    "# Map political divisions to their main continent\n",
    "region_map = {\n",
    "    'Europe': 'Europe',\n",
    "    'Europe (excl. EU-27)': 'Europe',\n",
    "    'Europe (excl. EU-28)': 'Europe',\n",
    "    'European Union (27)': 'Europe',\n",
    "    'European Union (28)': 'Europe',\n",
    "\n",
    "    'North America': 'North America',\n",
    "    'North America (excl. USA)': 'North America',\n",
    "\n",
    "    'Asia': 'Asia',\n",
    "    'Asia (excl. China and India)': 'Asia',\n",
    "\n",
    "    'Africa': 'Africa',\n",
    "    'Oceania': 'Oceania',\n",
    "    'South America': 'South America',\n",
    "    'World': 'World',\n",
    "}\n",
    "\n",
    "co2_by_groups['Continent'] = co2_by_groups['Region/Group'].map(region_map)\n",
    "\n",
    "co2_by_groups['Continent'].value_counts()"
   ]
  },
  {
   "cell_type": "code",
   "execution_count": 934,
   "metadata": {},
   "outputs": [
    {
     "name": "stdout",
     "output_type": "stream",
     "text": [
      "Region/Group      0\n",
      "Country Code      0\n",
      "Year              0\n",
      "Population      256\n",
      "CO2               0\n",
      "Continent         0\n",
      "dtype: int64\n"
     ]
    }
   ],
   "source": [
    "# co2_by_groups = co2_by_groups.dropna(subset=['Population'])\n",
    "print(co2_by_groups.isnull().sum())"
   ]
  },
  {
   "cell_type": "code",
   "execution_count": 935,
   "id": "1175bced",
   "metadata": {},
   "outputs": [
    {
     "data": {
      "text/plain": [
       "array(['Europe (excl. EU-27)', 'Europe (excl. EU-28)',\n",
       "       'European Union (28)', 'North America (excl. USA)'], dtype=object)"
      ]
     },
     "execution_count": 935,
     "metadata": {},
     "output_type": "execute_result"
    }
   ],
   "source": [
    "# Verify where the missing population data lies\n",
    "missing_pop = co2_by_groups[co2_by_groups['Population'].isna()]\n",
    "missing_groups = missing_pop['Region/Group'].unique()\n",
    "missing_groups"
   ]
  },
  {
   "cell_type": "code",
   "execution_count": 936,
   "id": "ebaee8b2",
   "metadata": {},
   "outputs": [
    {
     "name": "stdout",
     "output_type": "stream",
     "text": [
      "Region/Group    0\n",
      "Country Code    0\n",
      "Year            0\n",
      "Continent       0\n",
      "Population      0\n",
      "CO2             0\n",
      "dtype: int64\n"
     ]
    }
   ],
   "source": [
    "# Aggregate population values to fill in the gaps\n",
    "group_map = {\n",
    "    'Europe (excl. EU-27)': 'Europe',\n",
    "    'Europe (excl. EU-28)': 'Europe',\n",
    "    'European Union (28)': 'Europe',\n",
    "\n",
    "    'North America (excl. USA)': 'North America'\n",
    "}\n",
    "\n",
    "# Overwrite the current values\n",
    "co2_by_groups['Region/Group'] = co2_by_groups['Region/Group'].replace(group_map)\n",
    "\n",
    "# Aggregate population entries\n",
    "aggregated = co2_by_groups.groupby(['Region/Group', 'Year'], as_index=False).agg({\n",
    "    'Population': 'sum',\n",
    "    'CO2': 'sum'\n",
    "})\n",
    "\n",
    "# Merge to fill in the missing values\n",
    "co2_by_groups = co2_by_groups.drop(columns=['Population', 'CO2']) \\\n",
    "    .merge(aggregated, on=['Region/Group', 'Year'], how='left')\n",
    "\n",
    "# Check missing values\n",
    "print(co2_by_groups.isnull().sum())"
   ]
  },
  {
   "cell_type": "markdown",
   "id": "08f0611e",
   "metadata": {},
   "source": [
    "### Duplicated Data"
   ]
  },
  {
   "cell_type": "code",
   "execution_count": 937,
   "id": "5e89c7d1",
   "metadata": {},
   "outputs": [
    {
     "data": {
      "text/html": [
       "<div>\n",
       "<style scoped>\n",
       "    .dataframe tbody tr th:only-of-type {\n",
       "        vertical-align: middle;\n",
       "    }\n",
       "\n",
       "    .dataframe tbody tr th {\n",
       "        vertical-align: top;\n",
       "    }\n",
       "\n",
       "    .dataframe thead th {\n",
       "        text-align: right;\n",
       "    }\n",
       "</style>\n",
       "<table border=\"1\" class=\"dataframe\">\n",
       "  <thead>\n",
       "    <tr style=\"text-align: right;\">\n",
       "      <th></th>\n",
       "      <th>Region/Group</th>\n",
       "      <th>Country Code</th>\n",
       "      <th>Year</th>\n",
       "      <th>Continent</th>\n",
       "      <th>Population</th>\n",
       "      <th>CO2</th>\n",
       "    </tr>\n",
       "  </thead>\n",
       "  <tbody>\n",
       "  </tbody>\n",
       "</table>\n",
       "</div>"
      ],
      "text/plain": [
       "Empty DataFrame\n",
       "Columns: [Region/Group, Country Code, Year, Continent, Population, CO2]\n",
       "Index: []"
      ]
     },
     "execution_count": 937,
     "metadata": {},
     "output_type": "execute_result"
    }
   ],
   "source": [
    "# Search for duplicate data\n",
    "duplicates_groups = co2_by_groups[co2_by_groups.duplicated()]\n",
    "duplicates_groups"
   ]
  },
  {
   "cell_type": "markdown",
   "id": "536e0dac",
   "metadata": {},
   "source": [
    "### Outliers"
   ]
  },
  {
   "cell_type": "code",
   "execution_count": 938,
   "id": "5c8bc919",
   "metadata": {},
   "outputs": [
    {
     "data": {
      "image/png": "[encoded data removed]",
      "text/plain": [
       "<Figure size 1200x600 with 2 Axes>"
      ]
     },
     "metadata": {},
     "output_type": "display_data"
    }
   ],
   "source": [
    "# Visual inspection of data patterns\n",
    "fig, axes = plt.subplots(1,2, figsize=(12,6))\n",
    "axes = axes.flatten()\n",
    "\n",
    "# Boxplot for co2\n",
    "sns.boxplot(data=co2_by_groups, x='CO2', ax=axes[0])\n",
    "axes[0].set_title('Boxplot of CO2 Emissions')\n",
    "\n",
    "# Boxplot for population\n",
    "sns.boxplot(data=co2_by_groups, x='Population', ax=axes[1])\n",
    "axes[1].set_title('Boxplot of population')\n",
    "\n",
    "plt.tight_layout()\n",
    "plt.show()"
   ]
  },
  {
   "cell_type": "markdown",
   "id": "0c41897d",
   "metadata": {},
   "source": [
    "#### Comments\n",
    "**Boxplots** reflect global differences in emissions and population data. Most regional and economic groups have low values, while some are exceptionally large or high-emitting. Because this dataset includes both regional and economic group data, groups will need to be categorized for further analysis."
   ]
  },
  {
   "cell_type": "markdown",
   "id": "1db741f8",
   "metadata": {},
   "source": [
    "#### Feature Engineering"
   ]
  },
  {
   "cell_type": "code",
   "execution_count": 939,
   "id": "892bc661",
   "metadata": {},
   "outputs": [],
   "source": [
    "# Basic per capital co2 calculation per country per year\n",
    "co2_by_groups['Per Capita CO2'] = co2_by_groups['CO2'] / co2_by_groups['Population']"
   ]
  },
  {
   "cell_type": "code",
   "execution_count": 940,
   "id": "d6fa859f",
   "metadata": {},
   "outputs": [],
   "source": [
    "# Compute cumulative CO2 emissions by country\n",
    "cumulative_co2 = co2_by_groups.groupby('Continent', as_index=False)['CO2'].sum()\n",
    "cumulative_co2 = cumulative_co2.rename(columns={'CO2': \"Cumulative CO2\"})\n",
    "\n",
    "# Merge cumulative into the DataFrame\n",
    "co2_by_groups = co2_by_groups.merge(cumulative_co2, on=\"Continent\", how='left')"
   ]
  },
  {
   "cell_type": "code",
   "execution_count": 941,
   "id": "98c00081",
   "metadata": {},
   "outputs": [],
   "source": [
    "# Add column to categorize level of emissions using quantile-based bins\n",
    "# Get the max and nudge it just beyond the previous bin if needed\n",
    "max_val = co2_by_groups['Cumulative CO2'].max()\n",
    "adjusted_max = max(max_val, 1.00001e8)  # forces it to be strictly greater than 1e8\n",
    "\n",
    "bins = [0, 1e6, 1e7, 1e8, adjusted_max]\n",
    "labels = ['Low', 'Moderate', 'High', 'Very High']\n",
    "\n",
    "co2_by_groups['Emissions Category'] = pd.cut(\n",
    "    co2_by_groups['Cumulative CO2'],\n",
    "    bins=bins,\n",
    "    labels=labels,\n",
    "    include_lowest=True\n",
    ")"
   ]
  },
  {
   "cell_type": "code",
   "execution_count": 942,
   "id": "29dc783a",
   "metadata": {},
   "outputs": [
    {
     "data": {
      "text/html": [
       "<div>\n",
       "<style scoped>\n",
       "    .dataframe tbody tr th:only-of-type {\n",
       "        vertical-align: middle;\n",
       "    }\n",
       "\n",
       "    .dataframe tbody tr th {\n",
       "        vertical-align: top;\n",
       "    }\n",
       "\n",
       "    .dataframe thead th {\n",
       "        text-align: right;\n",
       "    }\n",
       "</style>\n",
       "<table border=\"1\" class=\"dataframe\">\n",
       "  <thead>\n",
       "    <tr style=\"text-align: right;\">\n",
       "      <th></th>\n",
       "      <th>Region/Group</th>\n",
       "      <th>Country Code</th>\n",
       "      <th>Year</th>\n",
       "      <th>Continent</th>\n",
       "      <th>Population</th>\n",
       "      <th>CO2</th>\n",
       "      <th>Per Capita CO2</th>\n",
       "      <th>Cumulative CO2</th>\n",
       "      <th>Emissions Category</th>\n",
       "      <th>CO2 Log</th>\n",
       "      <th>Pop Log</th>\n",
       "    </tr>\n",
       "  </thead>\n",
       "  <tbody>\n",
       "    <tr>\n",
       "      <th>0</th>\n",
       "      <td>Africa</td>\n",
       "      <td>AFR</td>\n",
       "      <td>1960</td>\n",
       "      <td>Africa</td>\n",
       "      <td>283922289.0</td>\n",
       "      <td>156.567</td>\n",
       "      <td>5.514431e-07</td>\n",
       "      <td>49714.657</td>\n",
       "      <td>Low</td>\n",
       "      <td>5.059851</td>\n",
       "      <td>19.464211</td>\n",
       "    </tr>\n",
       "    <tr>\n",
       "      <th>1</th>\n",
       "      <td>Africa</td>\n",
       "      <td>AFR</td>\n",
       "      <td>1961</td>\n",
       "      <td>Africa</td>\n",
       "      <td>290814083.0</td>\n",
       "      <td>161.994</td>\n",
       "      <td>5.570363e-07</td>\n",
       "      <td>49714.657</td>\n",
       "      <td>Low</td>\n",
       "      <td>5.093713</td>\n",
       "      <td>19.488195</td>\n",
       "    </tr>\n",
       "    <tr>\n",
       "      <th>2</th>\n",
       "      <td>Africa</td>\n",
       "      <td>AFR</td>\n",
       "      <td>1962</td>\n",
       "      <td>Africa</td>\n",
       "      <td>297959967.0</td>\n",
       "      <td>166.335</td>\n",
       "      <td>5.582461e-07</td>\n",
       "      <td>49714.657</td>\n",
       "      <td>Low</td>\n",
       "      <td>5.119998</td>\n",
       "      <td>19.512470</td>\n",
       "    </tr>\n",
       "  </tbody>\n",
       "</table>\n",
       "</div>"
      ],
      "text/plain": [
       "  Region/Group Country Code  Year Continent   Population      CO2  \\\n",
       "0       Africa          AFR  1960    Africa  283922289.0  156.567   \n",
       "1       Africa          AFR  1961    Africa  290814083.0  161.994   \n",
       "2       Africa          AFR  1962    Africa  297959967.0  166.335   \n",
       "\n",
       "   Per Capita CO2  Cumulative CO2 Emissions Category   CO2 Log    Pop Log  \n",
       "0    5.514431e-07       49714.657                Low  5.059851  19.464211  \n",
       "1    5.570363e-07       49714.657                Low  5.093713  19.488195  \n",
       "2    5.582461e-07       49714.657                Low  5.119998  19.512470  "
      ]
     },
     "execution_count": 942,
     "metadata": {},
     "output_type": "execute_result"
    }
   ],
   "source": [
    "# Add a column with Log transformation of co2 and population to soften skew\n",
    "co2_by_groups['CO2 Log'] = np.log1p(co2_by_groups['CO2'])\n",
    "co2_by_groups['Pop Log'] = np.log1p(co2_by_groups['Population'])\n",
    "\n",
    "# Preview change to DataFrame\n",
    "co2_by_groups.head(3)"
   ]
  },
  {
   "cell_type": "code",
   "execution_count": 943,
   "id": "799d3036",
   "metadata": {},
   "outputs": [
    {
     "data": {
      "image/png": "[encoded data removed]",
      "text/plain": [
       "<Figure size 1200x600 with 2 Axes>"
      ]
     },
     "metadata": {},
     "output_type": "display_data"
    }
   ],
   "source": [
    "# Visualize again\n",
    "# Visual inspection of data patterns\n",
    "fig, axes = plt.subplots(1,2, figsize=(12,6))\n",
    "axes = axes.flatten()\n",
    "\n",
    "# Boxplot for co2\n",
    "sns.boxplot(data=co2_by_groups, x='CO2 Log', ax=axes[0])\n",
    "axes[0].set_title('Boxplot of Log Transformed CO2 Emissions')\n",
    "\n",
    "# Boxplot for population\n",
    "sns.boxplot(data=co2_by_groups, x='Pop Log', ax=axes[1])\n",
    "axes[1].set_title('Boxplot of population')\n",
    "\n",
    "plt.tight_layout()\n",
    "plt.show()"
   ]
  },
  {
   "cell_type": "code",
   "execution_count": 944,
   "id": "e6bc507d",
   "metadata": {},
   "outputs": [],
   "source": [
    "# Flag outliers of population - critical for statistical modeling\n",
    "population_low = co2_by_groups['Pop Log'].quantile(0.01)\n",
    "population_high = co2_by_groups['Pop Log'].quantile(0.99)\n",
    "\n",
    "# Create column to flag outliers\n",
    "co2_by_groups['Pop Outliers'] = 'not outlier'   # Default value\n",
    "co2_by_groups.loc[co2_by_groups['Pop Log'] < population_low, 'Pop Outliers'] = 'low outlier'\n",
    "co2_by_groups.loc[co2_by_groups['Pop Log'] > population_high, 'Pop Outliers'] = 'high outlier'"
   ]
  },
  {
   "cell_type": "code",
   "execution_count": 945,
   "id": "d3e94ea4",
   "metadata": {},
   "outputs": [
    {
     "data": {
      "text/html": [
       "<div>\n",
       "<style scoped>\n",
       "    .dataframe tbody tr th:only-of-type {\n",
       "        vertical-align: middle;\n",
       "    }\n",
       "\n",
       "    .dataframe tbody tr th {\n",
       "        vertical-align: top;\n",
       "    }\n",
       "\n",
       "    .dataframe thead th {\n",
       "        text-align: right;\n",
       "    }\n",
       "</style>\n",
       "<table border=\"1\" class=\"dataframe\">\n",
       "  <thead>\n",
       "    <tr style=\"text-align: right;\">\n",
       "      <th></th>\n",
       "      <th>Region/Group</th>\n",
       "      <th>Country Code</th>\n",
       "      <th>Year</th>\n",
       "      <th>Continent</th>\n",
       "      <th>Population</th>\n",
       "      <th>CO2</th>\n",
       "      <th>Per Capita CO2</th>\n",
       "      <th>Cumulative CO2</th>\n",
       "      <th>Emissions Category</th>\n",
       "      <th>CO2 Log</th>\n",
       "      <th>Pop Log</th>\n",
       "      <th>Pop Outliers</th>\n",
       "      <th>Pop Category</th>\n",
       "    </tr>\n",
       "  </thead>\n",
       "  <tbody>\n",
       "    <tr>\n",
       "      <th>0</th>\n",
       "      <td>Africa</td>\n",
       "      <td>AFR</td>\n",
       "      <td>1960</td>\n",
       "      <td>Africa</td>\n",
       "      <td>283922289.0</td>\n",
       "      <td>156.567</td>\n",
       "      <td>5.514431e-07</td>\n",
       "      <td>49714.657</td>\n",
       "      <td>Low</td>\n",
       "      <td>5.059851</td>\n",
       "      <td>19.464211</td>\n",
       "      <td>not outlier</td>\n",
       "      <td>100M-1B</td>\n",
       "    </tr>\n",
       "    <tr>\n",
       "      <th>1</th>\n",
       "      <td>Africa</td>\n",
       "      <td>AFR</td>\n",
       "      <td>1961</td>\n",
       "      <td>Africa</td>\n",
       "      <td>290814083.0</td>\n",
       "      <td>161.994</td>\n",
       "      <td>5.570363e-07</td>\n",
       "      <td>49714.657</td>\n",
       "      <td>Low</td>\n",
       "      <td>5.093713</td>\n",
       "      <td>19.488195</td>\n",
       "      <td>not outlier</td>\n",
       "      <td>100M-1B</td>\n",
       "    </tr>\n",
       "    <tr>\n",
       "      <th>2</th>\n",
       "      <td>Africa</td>\n",
       "      <td>AFR</td>\n",
       "      <td>1962</td>\n",
       "      <td>Africa</td>\n",
       "      <td>297959967.0</td>\n",
       "      <td>166.335</td>\n",
       "      <td>5.582461e-07</td>\n",
       "      <td>49714.657</td>\n",
       "      <td>Low</td>\n",
       "      <td>5.119998</td>\n",
       "      <td>19.512470</td>\n",
       "      <td>not outlier</td>\n",
       "      <td>100M-1B</td>\n",
       "    </tr>\n",
       "  </tbody>\n",
       "</table>\n",
       "</div>"
      ],
      "text/plain": [
       "  Region/Group Country Code  Year Continent   Population      CO2  \\\n",
       "0       Africa          AFR  1960    Africa  283922289.0  156.567   \n",
       "1       Africa          AFR  1961    Africa  290814083.0  161.994   \n",
       "2       Africa          AFR  1962    Africa  297959967.0  166.335   \n",
       "\n",
       "   Per Capita CO2  Cumulative CO2 Emissions Category   CO2 Log    Pop Log  \\\n",
       "0    5.514431e-07       49714.657                Low  5.059851  19.464211   \n",
       "1    5.570363e-07       49714.657                Low  5.093713  19.488195   \n",
       "2    5.582461e-07       49714.657                Low  5.119998  19.512470   \n",
       "\n",
       "  Pop Outliers Pop Category  \n",
       "0  not outlier      100M-1B  \n",
       "1  not outlier      100M-1B  \n",
       "2  not outlier      100M-1B  "
      ]
     },
     "execution_count": 945,
     "metadata": {},
     "output_type": "execute_result"
    }
   ],
   "source": [
    "# Create bucket categories for population\n",
    "bins = [0, 1e6, 10e6, 100e6, 1e9, float('inf')]\n",
    "labels = ['<1M', '1M-10M', '10M-100M', '100M-1B', '1B+']\n",
    "co2_by_groups['Pop Category'] = pd.cut(co2_by_groups['Population'], bins=bins, labels=labels)\n",
    "\n",
    "# Preview changes to DataFrame\n",
    "co2_by_groups.head(3)"
   ]
  },
  {
   "cell_type": "markdown",
   "id": "8d4c731f",
   "metadata": {},
   "source": [
    "#### Comments\n",
    "There are no outliers seen in the log-transformed CO2 emissions, but many outliers with the populations. To help with analysis, we will create a category for population to flag the outliers."
   ]
  },
  {
   "cell_type": "markdown",
   "id": "540da76f",
   "metadata": {},
   "source": [
    "### Export Cleaned Data"
   ]
  },
  {
   "cell_type": "code",
   "execution_count": null,
   "id": "15b66e6d",
   "metadata": {},
   "outputs": [],
   "source": [
    "# Export cleaned CO2 data by country\n",
    "# co2_by_country.to_csv(\"../data/in_process/2b_co2_by_country_cleaned.csv\")\n",
    "\n",
    "# Export cleaned CO2 data by group\n",
    "# co2_by_groups.to_csv(\"../data/in_process/2b_co2_by_groups_cleaned.csv\")"
   ]
  },
  {
   "cell_type": "markdown",
   "id": "2b5cfae1",
   "metadata": {},
   "source": []
  }
 ],
 "metadata": {
  "kernelspec": {
   "display_name": "Python 3",
   "language": "python",
   "name": "python3"
  },
  "language_info": {
   "codemirror_mode": {
    "name": "ipython",
    "version": 3
   },
   "file_extension": ".py",
   "mimetype": "text/x-python",
   "name": "python",
   "nbconvert_exporter": "python",
   "pygments_lexer": "ipython3",
   "version": "3.12.1"
  }
 },
 "nbformat": 4,
 "nbformat_minor": 5
}
